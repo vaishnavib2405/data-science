{
  "nbformat": 4,
  "nbformat_minor": 0,
  "metadata": {
    "colab": {
      "provenance": []
    },
    "kernelspec": {
      "name": "python3",
      "display_name": "Python 3"
    },
    "language_info": {
      "name": "python"
    }
  },
  "cells": [
    {
      "cell_type": "markdown",
      "source": [
        "# **Set_1**"
      ],
      "metadata": {
        "id": "FdS_75esUdsp"
      }
    },
    {
      "cell_type": "code",
      "execution_count": 1,
      "metadata": {
        "id": "14MHlWvdUZ0h"
      },
      "outputs": [],
      "source": [
        "import pandas as pd\n",
        "import numpy as np\n",
        "import matplotlib.pyplot as plt\n",
        "import seaborn as sns"
      ]
    },
    {
      "cell_type": "code",
      "source": [],
      "metadata": {
        "id": "SbUbFzeIV7Ch"
      },
      "execution_count": null,
      "outputs": []
    },
    {
      "cell_type": "code",
      "source": [
        "measure_x=pd.Series([24.23,25.53,25.41,24.14,29.62,28.25,25.81,24.39,40.26,32.95,91.36,25.99,39.42,26.71,35.00])\n",
        "name_of_company=('Allied Signal','Bankers Trust','General Mills','ITT Industries','J.P.Morgan & Co.','Lehman Brothers',\n",
        "                 'Marriott','MCI','Merrill Lynch','Microsoft','Morgan Stanley','Sun Microsystems','TravelersUS Airways',\n",
        "                 'Warner-Lambert')"
      ],
      "metadata": {
        "id": "3HX6rW-mUl85"
      },
      "execution_count": 2,
      "outputs": []
    },
    {
      "cell_type": "code",
      "source": [
        "measure_x.mean()"
      ],
      "metadata": {
        "colab": {
          "base_uri": "https://localhost:8080/"
        },
        "id": "7qeIgUeBU454",
        "outputId": "83aa5cf9-4a00-46ea-80b7-692709e108d9"
      },
      "execution_count": 3,
      "outputs": [
        {
          "output_type": "execute_result",
          "data": {
            "text/plain": [
              "33.27133333333333"
            ]
          },
          "metadata": {},
          "execution_count": 3
        }
      ]
    },
    {
      "cell_type": "code",
      "source": [
        "measure_x.describe()"
      ],
      "metadata": {
        "colab": {
          "base_uri": "https://localhost:8080/"
        },
        "id": "sioVyrPuU_vi",
        "outputId": "80d837fb-ae42-4798-adca-9947abe55ca0"
      },
      "execution_count": 5,
      "outputs": [
        {
          "output_type": "execute_result",
          "data": {
            "text/plain": [
              "count    15.000000\n",
              "mean     33.271333\n",
              "std      16.945401\n",
              "min      24.140000\n",
              "25%      25.470000\n",
              "50%      26.710000\n",
              "75%      33.975000\n",
              "max      91.360000\n",
              "dtype: float64"
            ]
          },
          "metadata": {},
          "execution_count": 5
        }
      ]
    },
    {
      "cell_type": "code",
      "source": [
        "np.round(measure_x.var())"
      ],
      "metadata": {
        "colab": {
          "base_uri": "https://localhost:8080/"
        },
        "id": "5o0CtN5eVDFS",
        "outputId": "3b823fb1-253f-429b-99f0-75ad73c48e04"
      },
      "execution_count": 7,
      "outputs": [
        {
          "output_type": "execute_result",
          "data": {
            "text/plain": [
              "287.0"
            ]
          },
          "metadata": {},
          "execution_count": 7
        }
      ]
    },
    {
      "cell_type": "code",
      "source": [
        "sns.boxplot(measure_x)"
      ],
      "metadata": {
        "colab": {
          "base_uri": "https://localhost:8080/",
          "height": 447
        },
        "id": "rmBBe9TbVKih",
        "outputId": "14cb9349-234c-45a8-ab6d-c6cb74d3cd2d"
      },
      "execution_count": 8,
      "outputs": [
        {
          "output_type": "execute_result",
          "data": {
            "text/plain": [
              "<Axes: >"
            ]
          },
          "metadata": {},
          "execution_count": 8
        },
        {
          "output_type": "display_data",
          "data": {
            "text/plain": [
              "<Figure size 640x480 with 1 Axes>"
            ],
            "image/png": "[encoded data removed]"
          },
          "metadata": {}
        }
      ]
    },
    {
      "cell_type": "code",
      "source": [
        "q1=np.quantile(measure_x,0.25)\n",
        "q3=np.quantile(measure_x,0.75)\n",
        "med=np.median(measure_x)\n",
        "IQR = q3 - q1\n",
        "upper_bound = q3+(1.5*IQR)\n",
        "lower_bound = q1-(1.5*IQR)\n",
        "print(IQR,upper_bound,lower_bound)\n"
      ],
      "metadata": {
        "colab": {
          "base_uri": "https://localhost:8080/"
        },
        "id": "StBT4YorVQWS",
        "outputId": "ee8606db-a171-4632-cb3c-20d6241c3677"
      },
      "execution_count": 9,
      "outputs": [
        {
          "output_type": "stream",
          "name": "stdout",
          "text": [
            "8.505000000000003 46.7325 12.712499999999995\n"
          ]
        }
      ]
    },
    {
      "cell_type": "code",
      "source": [
        "print('First Quantile=', q1,'\\n' 'Second Quantile=',med,'\\n''Third Quantile=', q3,\n",
        "     '\\n' 'Inter-Quartile Range=', IQR,'\\n' 'Upper Whisker=', upper_bound,'\\n' 'Lower Whisker=', lower_bound)\n",
        "Outliers = measure_x[(measure_x <= lower_bound) | (measure_x >= upper_bound)]\n",
        "print('The outlier in the boxplot:',Outliers)\n",
        "Outliers = measure_x[(measure_x >= upper_bound)]\n",
        "print('The outlier in the boxplot:',Outliers)"
      ],
      "metadata": {
        "colab": {
          "base_uri": "https://localhost:8080/"
        },
        "id": "q3XSsIZyVfe4",
        "outputId": "9d662d94-d5cf-4fe4-e674-9bc90e80ecb0"
      },
      "execution_count": 13,
      "outputs": [
        {
          "output_type": "stream",
          "name": "stdout",
          "text": [
            "First Quantile= 25.47 \n",
            "Second Quantile= 26.71 \n",
            "Third Quantile= 33.975 \n",
            "Inter-Quartile Range= 8.505000000000003 \n",
            "Upper Whisker= 46.7325 \n",
            "Lower Whisker= 12.712499999999995\n",
            "The outlier in the boxplot: 10    91.36\n",
            "dtype: float64\n",
            "The outlier in the boxplot: 10    91.36\n",
            "dtype: float64\n"
          ]
        }
      ]
    },
    {
      "cell_type": "markdown",
      "source": [
        "# **Set_2**"
      ],
      "metadata": {
        "id": "yQb6yf1jV2s7"
      }
    },
    {
      "cell_type": "markdown",
      "source": [
        " Q1"
      ],
      "metadata": {
        "id": "ksUJTAdRWskU"
      }
    },
    {
      "cell_type": "code",
      "source": [
        " #the serving work will began after 10 min of drop off so 45+10 which will now take more than the usual time so new mew is 55 minutes and the porbbaility that it will take more than 1 hour to complete\n",
        " from scipy import stats\n",
        " prob=1-stats.norm.cdf(0.625)\n",
        " prob\n",
        " print(\"\"\"The probability that the service manager cannot meet his\n",
        "      commitment is\"\"\",prob)\n"
      ],
      "metadata": {
        "colab": {
          "base_uri": "https://localhost:8080/"
        },
        "id": "cYVGPahUVioK",
        "outputId": "aa52677e-a3a8-48c2-b455-1ca46b2d91f4"
      },
      "execution_count": 22,
      "outputs": [
        {
          "output_type": "stream",
          "name": "stdout",
          "text": [
            "The probability that the service manager cannot meet his \n",
            "     commitment is 0.26598552904870054\n"
          ]
        }
      ]
    },
    {
      "cell_type": "code",
      "source": [
        "1-stats.norm.cdf(50,45,8)"
      ],
      "metadata": {
        "colab": {
          "base_uri": "https://localhost:8080/"
        },
        "id": "SNrNMMMhW1V-",
        "outputId": "4e2364ba-2c6e-4835-e353-4648c14bf375"
      },
      "execution_count": 17,
      "outputs": [
        {
          "output_type": "execute_result",
          "data": {
            "text/plain": [
              "0.26598552904870054"
            ]
          },
          "metadata": {},
          "execution_count": 17
        }
      ]
    },
    {
      "cell_type": "markdown",
      "source": [
        "Q2"
      ],
      "metadata": {
        "id": "7AygWYuKXUZa"
      }
    },
    {
      "cell_type": "code",
      "source": [
        "a1=1-stats.norm.cdf(44,38,6)\n",
        "a1"
      ],
      "metadata": {
        "colab": {
          "base_uri": "https://localhost:8080/"
        },
        "id": "DCWtOHyxXO34",
        "outputId": "9404cc0b-5518-4dbb-cf38-0d76d16bd315"
      },
      "execution_count": 19,
      "outputs": [
        {
          "output_type": "execute_result",
          "data": {
            "text/plain": [
              "0.15865525393145707"
            ]
          },
          "metadata": {},
          "execution_count": 19
        }
      ]
    },
    {
      "cell_type": "code",
      "source": [
        "\n",
        "lessthan_38 = stats.norm.cdf(38, 38, 6)\n",
        "\n",
        "\n",
        "less_than_44 = stats.norm.cdf(44,38,6)\n",
        "\n",
        "\n",
        "q2_betweeen_38_and_44 = (less_than_44 - lessthan_38)\n",
        "print('The probability of employee age betweeen 38 and 44 is',np.round(q2_betweeen_38_and_44*100,2),'%')\n",
        "\n",
        "q2_morethan_44 = 1-stats.norm.cdf(44, 38,6)\n",
        "print('The probability of employee age more than 44 is',np.round(q2_morethan_44*100,2),'%')\n",
        "\n",
        "true_or_false = (q2_morethan_44 > q2_betweeen_38_and_44)\n",
        "print('Answer:',true_or_false)\n",
        "\n",
        "q2b = stats.norm.cdf(30, 38,6)\n",
        "print(\"\"\"A training program for employees under the age of 30 at the center would be expected to attract about\"\"\"\n",
        "      ,np.round((q2b*400),0),'employees')"
      ],
      "metadata": {
        "colab": {
          "base_uri": "https://localhost:8080/"
        },
        "id": "g2ZnbB5gXmpg",
        "outputId": "d4bc2c49-d18a-47e8-d814-fc8d12a2877c"
      },
      "execution_count": 21,
      "outputs": [
        {
          "output_type": "stream",
          "name": "stdout",
          "text": [
            "The probability of employee age betweeen 38 and 44 is 34.13 %\n",
            "The probability of employee age more than 44 is 15.87 %\n",
            "Answer: False\n",
            "A training program for employees under the age of 30 at the center would be expected to attract about 36.0 employees\n"
          ]
        }
      ]
    },
    {
      "cell_type": "markdown",
      "source": [
        "Q4.Let X ~ N(100, 20^2). Find two values, a and b, symmetric about the mean, such that the probability of the random variable taking a value between them is 0.99.\n",
        "A.90.5, 105.9\n",
        "B.80.2, 119.8\n",
        "C.22, 78\n",
        "D.48.5, 151.5\n",
        "E.90.1, 109.9"
      ],
      "metadata": {
        "id": "DIyeRtNGZVvA"
      }
    },
    {
      "cell_type": "code",
      "source": [
        "q4_99=stats.norm.interval(0.99,100,20)\n",
        "q4_99\n",
        "print(\"\"\"The two values of a and b, symmetric about the mean,\n",
        "      are such that the probability of the random variable\n",
        "      taking a value between them is 0.99:\"\"\",np.round(stats.norm.interval(0.99,100,20)))"
      ],
      "metadata": {
        "colab": {
          "base_uri": "https://localhost:8080/"
        },
        "id": "Ujp07V3dZLDP",
        "outputId": "44f8b6c8-cd9b-4a92-edd8-37ae847b4e14"
      },
      "execution_count": 25,
      "outputs": [
        {
          "output_type": "stream",
          "name": "stdout",
          "text": [
            "The two values of a and b, symmetric about the mean, \n",
            "      are such that the probability of the random variable \n",
            "      taking a value between them is 0.99: [ 48. 152.]\n"
          ]
        }
      ]
    },
    {
      "cell_type": "markdown",
      "source": [
        "Q5"
      ],
      "metadata": {
        "id": "8XaTpQTHcjM8"
      }
    },
    {
      "cell_type": "code",
      "source": [
        "#Consider a company that has two different divisions. The annual profits from the two divisions are independent and have distributions Profit1 ~ N(5, 32) and Profit2 ~ N(7, 42) respectively. Both the profits are in USD Million. Answer the following questions about the total profit of the company in Rupees. Assume that 1USD = Rs. 45\n",
        "# Combine Mean Profit of both division for Company= mean1 + mean2\n",
        "mean1 = 5\n",
        "mean2 = 7\n",
        "Mean = (mean1+mean2) # 1 USD = 45 rupees\n",
        "print('The Mean Profit of both division:',Mean, 'Million$')\n",
        "print('The Mean Profit of both division:',(Mean*45)/10, 'Crore Rupees')\n",
        "\n",
        "# Combine standard Deviation = (Std1^2 + Std2^2)^1/2\n",
        "std1 = 3**2\n",
        "std2 = 4**2\n",
        "Std = np.sqrt(std1 + std2)\n",
        "print('The Standard Deviation of both division:', Std, 'Million$')\n",
        "print('The Standard Deviation of both division:', (Std*45)/10, 'Crore Rupees')\n",
        "\n"
      ],
      "metadata": {
        "colab": {
          "base_uri": "https://localhost:8080/"
        },
        "id": "6rTABAWnbe_D",
        "outputId": "27a94a82-3f06-42af-f358-fc38ee2937be"
      },
      "execution_count": 26,
      "outputs": [
        {
          "output_type": "stream",
          "name": "stdout",
          "text": [
            "The Mean Profit of both division: 12 Million$\n",
            "The Mean Profit of both division: 54.0 Crore Rupees\n",
            "The Standard Deviation of both division: 5.0 Million$\n",
            "The Standard Deviation of both division: 22.5 Crore Rupees\n"
          ]
        }
      ]
    },
    {
      "cell_type": "code",
      "source": [
        "#A. Specify a Rupee range (centered on the mean) such that it contains 95% probability for the annual profit of the company.\n",
        "r1, r2 = np.round(stats.norm.interval(0.95, Mean, Std),2)\n",
        "r1\n",
        "r2"
      ],
      "metadata": {
        "colab": {
          "base_uri": "https://localhost:8080/"
        },
        "id": "Q62Lplw1dEKz",
        "outputId": "2bd31b0a-1273-409b-b09d-8a649740c569"
      },
      "execution_count": 28,
      "outputs": [
        {
          "output_type": "execute_result",
          "data": {
            "text/plain": [
              "21.8"
            ]
          },
          "metadata": {},
          "execution_count": 28
        }
      ]
    },
    {
      "cell_type": "code",
      "source": [
        "#B. Specify the 5th percentile of profit (in Rupees) for the company\n",
        "Z_05_ = stats.norm.ppf(0.05)\n",
        "Fifth_percentile = (Z_05_ * Std) + Mean\n",
        "print('The 5th percentile of Profit for the company is',np.round(Fifth_percentile,2),'Million$')\n",
        "print('The 5th percentile of Profit for the company is',np.round((Fifth_percentile*45)))"
      ],
      "metadata": {
        "colab": {
          "base_uri": "https://localhost:8080/"
        },
        "id": "a3QE902aeqrV",
        "outputId": "2001ab2d-b5c7-41ce-a627-ff8282c9be8d"
      },
      "execution_count": 31,
      "outputs": [
        {
          "output_type": "stream",
          "name": "stdout",
          "text": [
            "The 5th percentile of Profit for the company is 3.78 Million$\n",
            "The 5th percentile of Profit for the company is 170.0\n"
          ]
        }
      ]
    },
    {
      "cell_type": "code",
      "source": [
        "#C. Which of the two divisions has a larger probability of making a loss in a given year?\n",
        "print('The Probability of Division #1 making a loss is',np.round((stats.norm.cdf(0,5,3))*100,2),'%')\n",
        "\n",
        "# The probability of Division #2 making a loss\n",
        "print('The Probability of Division #2 making a loss is',np.round((stats.norm.cdf(0,7,4))*100,2),'%')\n",
        "\n",
        "Division_1 = (stats.norm.cdf(0,5,3))*100\n",
        "Division_2 = (stats.norm.cdf(0,7,4))*100\n",
        "\n",
        "if Division_1>Division_2:\n",
        "    print('The Division 1 has a larger Probability of making a loss')\n",
        "else:\n",
        "          print('The Division 2 has a larger Porbability of making a loss')"
      ],
      "metadata": {
        "colab": {
          "base_uri": "https://localhost:8080/"
        },
        "id": "cRN_HDXVfHUW",
        "outputId": "08554889-28ce-47bc-dc00-720aada9cb63"
      },
      "execution_count": 32,
      "outputs": [
        {
          "output_type": "stream",
          "name": "stdout",
          "text": [
            "The Probability of Division #1 making a loss is 4.78 %\n",
            "The Probability of Division #2 making a loss is 4.01 %\n",
            "The Division 1 has a larger Probability of making a loss\n"
          ]
        }
      ]
    },
    {
      "cell_type": "markdown",
      "source": [
        "# **Set_3**"
      ],
      "metadata": {
        "id": "Qc_W2KqHiZgX"
      }
    },
    {
      "cell_type": "markdown",
      "source": [
        "Q5"
      ],
      "metadata": {
        "id": "cUYsbm2ji_ur"
      }
    },
    {
      "cell_type": "code",
      "source": [
        "z_scores=(0.046-0.05)/(np.sqrt((0.05*(1-0.05))/2000))"
      ],
      "metadata": {
        "id": "lDPWUQbbigga"
      },
      "execution_count": 44,
      "outputs": []
    },
    {
      "cell_type": "code",
      "source": [
        "p_value=stats.norm.cdf((z_scores))\n",
        "p_value"
      ],
      "metadata": {
        "colab": {
          "base_uri": "https://localhost:8080/"
        },
        "id": "3nteW50-i3mE",
        "outputId": "0ae72ed4-7663-47bd-c0c1-d7761754cb01"
      },
      "execution_count": 46,
      "outputs": [
        {
          "output_type": "execute_result",
          "data": {
            "text/plain": [
              "0.20588503245107104"
            ]
          },
          "metadata": {},
          "execution_count": 46
        }
      ]
    },
    {
      "cell_type": "markdown",
      "source": [
        "Q8"
      ],
      "metadata": {
        "id": "rGfbzcXejM8q"
      }
    },
    {
      "cell_type": "code",
      "source": [
        "n=((1.96)**2*(0.5*0.5)/0.04)**2\n",
        "n"
      ],
      "metadata": {
        "colab": {
          "base_uri": "https://localhost:8080/"
        },
        "id": "xb_FDOULi9d0",
        "outputId": "1fbf4c5c-2286-4f79-891e-6e72fadd3972"
      },
      "execution_count": 47,
      "outputs": [
        {
          "output_type": "execute_result",
          "data": {
            "text/plain": [
              "576.4800999999999"
            ]
          },
          "metadata": {},
          "execution_count": 47
        }
      ]
    },
    {
      "cell_type": "code",
      "source": [
        "n98=((2.326)**2*(0.5*0.5))/(0.84)**2\n",
        "n98"
      ],
      "metadata": {
        "colab": {
          "base_uri": "https://localhost:8080/"
        },
        "id": "5I1d4Hhljcyl",
        "outputId": "a8c2806d-6f2f-440e-8607-08d68958768c"
      },
      "execution_count": 48,
      "outputs": [
        {
          "output_type": "execute_result",
          "data": {
            "text/plain": [
              "1.9169061791383224"
            ]
          },
          "metadata": {},
          "execution_count": 48
        }
      ]
    },
    {
      "cell_type": "markdown",
      "source": [
        "Q9"
      ],
      "metadata": {
        "id": "WlL6ZTkPj_Zo"
      }
    },
    {
      "cell_type": "code",
      "source": [
        "n=((2.326)**2*(0.5*0.5))/(0.04)**2\n",
        "n"
      ],
      "metadata": {
        "colab": {
          "base_uri": "https://localhost:8080/"
        },
        "id": "W0kMBRkKj-qK",
        "outputId": "940972f4-1188-42df-86c9-dc20c2659eb1"
      },
      "execution_count": 50,
      "outputs": [
        {
          "output_type": "execute_result",
          "data": {
            "text/plain": [
              "845.355625"
            ]
          },
          "metadata": {},
          "execution_count": 50
        }
      ]
    },
    {
      "cell_type": "markdown",
      "source": [
        "# **Set_4**"
      ],
      "metadata": {
        "id": "yCeDAhZHfkLx"
      }
    },
    {
      "cell_type": "markdown",
      "source": [
        "Q3"
      ],
      "metadata": {
        "id": "ImDv5LeHf9Lw"
      }
    },
    {
      "cell_type": "code",
      "source": [
        "#3.Auditors at a small community bank randomly sample 100 withdrawal transactions made during the week at an ATM machine located near the bank’s main branch. Over the past 2 years, the average withdrawal amount has been 50 USD with a standard deviation of 40 USD. Since audit investigations are typically expensive, the auditors decide to not initiate further investigations if the mean transaction amount of the sample is between 45 USD and 55 USD. What is the probability that in any given week, there will be an investigation?\n",
        "\n",
        "z=(45-50)/(40/100**0.5)\n",
        "z"
      ],
      "metadata": {
        "colab": {
          "base_uri": "https://localhost:8080/"
        },
        "id": "eXdIMNvPfUZR",
        "outputId": "e4f07c19-2dc3-40b7-b1a3-88a22894f6ca"
      },
      "execution_count": 37,
      "outputs": [
        {
          "output_type": "execute_result",
          "data": {
            "text/plain": [
              "-1.25"
            ]
          },
          "metadata": {},
          "execution_count": 37
        }
      ]
    },
    {
      "cell_type": "code",
      "source": [
        "z1=(55-50)/(40/100**0.5)\n",
        "z1"
      ],
      "metadata": {
        "colab": {
          "base_uri": "https://localhost:8080/"
        },
        "id": "Q-Cas2sDglvW",
        "outputId": "f8ff9997-1cdf-46d4-d9d5-dd92a301fa2d"
      },
      "execution_count": 38,
      "outputs": [
        {
          "output_type": "execute_result",
          "data": {
            "text/plain": [
              "1.25"
            ]
          },
          "metadata": {},
          "execution_count": 38
        }
      ]
    },
    {
      "cell_type": "code",
      "source": [
        "stats.norm.cdf(1.25)-stats.norm.cdf(-1.25)"
      ],
      "metadata": {
        "colab": {
          "base_uri": "https://localhost:8080/"
        },
        "id": "Lo-UmjVYhVaA",
        "outputId": "891889e7-91b9-4090-bf92-1ec9ac7d225d"
      },
      "execution_count": 39,
      "outputs": [
        {
          "output_type": "execute_result",
          "data": {
            "text/plain": [
              "0.7887004526662893"
            ]
          },
          "metadata": {},
          "execution_count": 39
        }
      ]
    },
    {
      "cell_type": "markdown",
      "source": [
        "Q4"
      ],
      "metadata": {
        "id": "8xio6743hhDv"
      }
    },
    {
      "cell_type": "code",
      "source": [
        "t = np.round(stats.t.ppf(0.025, df = 249),2)\n",
        "t"
      ],
      "metadata": {
        "colab": {
          "base_uri": "https://localhost:8080/"
        },
        "id": "aAz8rJ9fhcWc",
        "outputId": "127fcc37-b0e1-4c36-8136-e3e7a7c3b5bb"
      },
      "execution_count": 40,
      "outputs": [
        {
          "output_type": "execute_result",
          "data": {
            "text/plain": [
              "-1.97"
            ]
          },
          "metadata": {},
          "execution_count": 40
        }
      ]
    },
    {
      "cell_type": "code",
      "source": [
        "n = ((40*abs(t)) / (5))**2\n",
        "df=n-1\n",
        "print(n,df)"
      ],
      "metadata": {
        "colab": {
          "base_uri": "https://localhost:8080/"
        },
        "id": "7yllAQ_mhqcq",
        "outputId": "40043ade-9979-4166-bf83-41ce48369c71"
      },
      "execution_count": 43,
      "outputs": [
        {
          "output_type": "stream",
          "name": "stdout",
          "text": [
            "248.3776 247.3776\n"
          ]
        }
      ]
    },
    {
      "cell_type": "code",
      "source": [],
      "metadata": {
        "id": "uldGh_Nuhstz"
      },
      "execution_count": null,
      "outputs": []
    }
  ]
}